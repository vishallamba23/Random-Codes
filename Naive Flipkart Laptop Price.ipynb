{
 "cells": [
  {
   "cell_type": "code",
   "execution_count": null,
   "metadata": {},
   "outputs": [
    {
     "name": "stdout",
     "output_type": "stream",
     "text": [
      "Performing price check at 00:51:25\n",
      "ALert! The price has changed. The updated price is ₹1,19,990\n",
      "Next check in 30 minutes.\n",
      "\n"
     ]
    }
   ],
   "source": [
    "#install reuqests, bs4, ctypes first\n",
    "\n",
    "#to make requests to websites and get html documents\n",
    "import requests\n",
    "\n",
    "#to read data from html document and display it nicely\n",
    "from bs4 import BeautifulSoup as bs\n",
    "\n",
    "#to produce pop-up windows for price change notifications\n",
    "#import ctypes\n",
    "\n",
    "\n",
    "import time\n",
    "import random\n",
    "\n",
    "#Current price of the laptop\n",
    "price = '₹1,09,990'\n",
    "\n",
    "#Check infinitely for price update\n",
    "while True:\n",
    "\n",
    "    #URL of item listing on flipkart\n",
    "    url = 'http://bit.ly/30AlmaX'\n",
    "    \n",
    "    #Get the current listed price using html data of page\n",
    "    response = requests.get(url)     \n",
    "    soup = bs(response.content)\n",
    "    \n",
    "    #use 'inspect element' on webpage to find the location 'tag' of the required data in the html code\n",
    "    data = soup.find(\"div\", {\"class\":\"_1vC4OE _3qQ9m1\"})\n",
    "        \n",
    "    #if price unchcnged, check again after 30 minutes\n",
    "    if data.get_text() == price:\n",
    "\n",
    "        t = time.localtime()\n",
    "        current_time = time.strftime(\"%H:%M:%S\", t)\n",
    "        print('Performing price check at ' + str(current_time))\n",
    "        print('Price is unchanged. Next check in 30 minutes.\\n')\n",
    "        time.sleep(1800)\n",
    "        \n",
    "    #if price changed, show a dialog box notification with the updated price and repeat\n",
    "    else:\n",
    "        \n",
    "        new_price = data.get_text()\n",
    "\n",
    "        t = time.localtime()\n",
    "        current_time = time.strftime(\"%H:%M:%S\", t)\n",
    "        print('Performing price check at ' + str(current_time))\n",
    "        print('ALert! The price has changed. The updated price is ' + new_price)\n",
    "        print('Next check in 30 minutes.\\n')\n",
    "    \n",
    "    #outputs the pop-up\n",
    "        #ctypes.windll.user32.MessageBoxW(0, 'New price = ' + new_price, \"The price has changed!\", 1)\n",
    "        price = new_price\n",
    "        time.sleep(1800)\n",
    "        "
   ]
  }
 ],
 "metadata": {
  "kernelspec": {
   "display_name": "Python 3",
   "language": "python",
   "name": "python3"
  },
  "language_info": {
   "codemirror_mode": {
    "name": "ipython",
    "version": 3
   },
   "file_extension": ".py",
   "mimetype": "text/x-python",
   "name": "python",
   "nbconvert_exporter": "python",
   "pygments_lexer": "ipython3",
   "version": "3.7.1"
  }
 },
 "nbformat": 4,
 "nbformat_minor": 2
}
